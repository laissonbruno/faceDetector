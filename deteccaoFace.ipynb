{
  "nbformat": 4,
  "nbformat_minor": 0,
  "metadata": {
    "colab": {
      "provenance": [],
      "toc_visible": true
    },
    "kernelspec": {
      "name": "python3",
      "display_name": "Python 3"
    },
    "language_info": {
      "name": "python"
    }
  },
  "cells": [
    {
      "cell_type": "code",
      "execution_count": 10,
      "metadata": {
        "id": "3mgMqIwe2SO_"
      },
      "outputs": [],
      "source": [
        "import numpy as np\n",
        "import cv2 as cv\n"
      ]
    },
    {
      "cell_type": "code",
      "source": [
        "face_classifier = cv.CascadeClassifier('/content/haarcascade_frontalface_default.xml')\n",
        "\n",
        "image = cv.imread('/content/imagem1.jpg')\n",
        "image_gray = cv.cvtColor(image, cv.COLOR_BGR2GRAY)\n",
        "\n",
        "faces = face_classifier.detectMultiScale(image_gray, 1.3, 5)"
      ],
      "metadata": {
        "id": "eJOWAs7I2fnT"
      },
      "execution_count": 11,
      "outputs": []
    },
    {
      "cell_type": "code",
      "source": [
        "for (x,y,w,h) in faces:\n",
        "  cv.rectangle(image, (x,y), (x+w,y+h), (255,0,0),2)\n",
        "\n",
        "cv.imshow('imagem', image)\n",
        "cv.waitKey(0)\n",
        "cv.destroyAllWindows()"
      ],
      "metadata": {
        "id": "gkA0jeG93CuK"
      },
      "execution_count": null,
      "outputs": []
    }
  ]
}